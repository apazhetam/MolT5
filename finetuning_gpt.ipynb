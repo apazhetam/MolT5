{
 "cells": [
  {
   "cell_type": "code",
   "execution_count": 3,
   "metadata": {},
   "outputs": [],
   "source": [
    "import json\n",
    "import os\n",
    "file_path = '/Users/jeremiahetiosaomeike/Desktop/Classwork/NLP (COS484)/final/MolT5/ChEBI-20_data/train.txt'\n",
    "json_path = '/Users/jeremiahetiosaomeike/Desktop/Classwork/NLP (COS484)/final/MolT5/ChEBI-20_train_sft'\n",
    "dset = []\n",
    "def process_data_for_training(f_path: str, json_path: str):\n",
    "    train_json = '/train.json'\n",
    "    test_json = '/test.json'\n",
    "    with open(f_path, 'r') as file:\n",
    "        for i, line in enumerate(file):\n",
    "            if i == 0:\n",
    "                continue # ignore that top thingy \n",
    "\n",
    "            this_line = line.strip().split('\\t') # everything's tab seperated\n",
    "            if len(this_line) >= 3: # just in case?\n",
    "                data = {\n",
    "                    'smiles': this_line[1],\n",
    "                    'description': this_line[2]\n",
    "                }\n",
    "                dset.append(data)\n",
    "    \n",
    "    if not os.path.exists(json_path):\n",
    "        os.mkdir(json_path)\n",
    "    \n",
    "    json_path_save = json_path + train_json\n",
    "    with open(json_path_save, 'w') as json_file:\n",
    "        json.dump(dset, json_file, indent=4) # need 4 to make parseable\n",
    "\n",
    "process_data_for_training(file_path, json_path)"
   ]
  },
  {
   "cell_type": "code",
   "execution_count": null,
   "metadata": {},
   "outputs": [],
   "source": [
    "from transformers import GPT2Tokenizer, GPT2LMHeadModel, TextDataset, DataCollatorForLanguageModeling, Trainer, TrainingArguments\n",
    "from datasets import load_dataset\n",
    "\n",
    "#TODO: hyperparameter sweep using lora config \n",
    "with open('output_data.json', 'r') as file:\n",
    "    data = json.load(file)\n",
    "\n",
    "# sep token works better \n",
    "training_data = [f\"{entry['smiles']} [SEP] {entry['description']}\" for entry in data]\n",
    "\n",
    "# with open('json_sft_train_as_text.txt', 'w') as file:\n",
    "#     for item in training_data:\n",
    "#         file.write(f\"{item}\\n\")\n",
    "\n",
    "model = GPT2LMHeadModel.from_pretrained('gpt2') # so we can get logits \n",
    "tokenizer = GPT2Tokenizer.from_pretrained('gpt2')\n",
    "\n",
    "tokenizer.add_special_tokens({'additional_special_tokens': ['[SEP]']})\n",
    "model.resize_token_embeddings(len(tokenizer))\n",
    "\n",
    "# Prepare dataset\n",
    "train_dataset = TextDataset(\n",
    "    tokenizer=tokenizer,\n",
    "    file_path='formatted_for_training.txt',\n",
    "    block_size=128)\n",
    "\n",
    "data_collator = DataCollatorForLanguageModeling(\n",
    "    tokenizer=tokenizer, mlm=False)\n",
    "\n",
    "# Set training arguments\n",
    "training_args = TrainingArguments(\n",
    "    output_dir='./saved_gpt2',           # output directory\n",
    "    overwrite_output_dir=True,\n",
    "    num_train_epochs=3,               # number of training epochs\n",
    "    per_device_train_batch_size=2,    # batch size for training\n",
    "    save_steps=100,                   # after # steps model is saved\n",
    "    save_total_limit=2,               # Only last 2 models are saved\n",
    "    prediction_loss_only=True,\n",
    ")\n",
    "\n",
    "# Initialize Trainer\n",
    "trainer = Trainer(\n",
    "    model=model,\n",
    "    args=training_args,\n",
    "    data_collator=data_collator,\n",
    "    train_dataset=train_dataset,\n",
    ")\n",
    "\n",
    "# Start training\n",
    "trainer.train()"
   ]
  },
  {
   "cell_type": "code",
   "execution_count": 7,
   "metadata": {},
   "outputs": [
    {
     "ename": "FileNotFoundError",
     "evalue": "[Errno 2] No such file or directory: 'cid_to_smiles.pkl'",
     "output_type": "error",
     "traceback": [
      "\u001b[0;31m---------------------------------------------------------------------------\u001b[0m",
      "\u001b[0;31mFileNotFoundError\u001b[0m                         Traceback (most recent call last)",
      "Cell \u001b[0;32mIn[7], line 4\u001b[0m\n\u001b[1;32m      1\u001b[0m \u001b[38;5;28;01mimport\u001b[39;00m \u001b[38;5;21;01mpickle\u001b[39;00m\n\u001b[0;32m----> 4\u001b[0m \u001b[38;5;28;01mwith\u001b[39;00m \u001b[38;5;28;43mopen\u001b[39;49m\u001b[43m(\u001b[49m\u001b[38;5;124;43m'\u001b[39;49m\u001b[38;5;124;43mcid_to_smiles.pkl\u001b[39;49m\u001b[38;5;124;43m'\u001b[39;49m\u001b[43m,\u001b[49m\u001b[43m \u001b[49m\u001b[38;5;124;43m'\u001b[39;49m\u001b[38;5;124;43mrb\u001b[39;49m\u001b[38;5;124;43m'\u001b[39;49m\u001b[43m)\u001b[49m \u001b[38;5;28;01mas\u001b[39;00m f:\n\u001b[1;32m      5\u001b[0m     cids_to_smiles \u001b[38;5;241m=\u001b[39m pickle\u001b[38;5;241m.\u001b[39mload(f)\n\u001b[1;32m      7\u001b[0m cids_to_smiles\n",
      "File \u001b[0;32m/opt/homebrew/Caskroom/miniforge/base/envs/MolT5/lib/python3.12/site-packages/IPython/core/interactiveshell.py:324\u001b[0m, in \u001b[0;36m_modified_open\u001b[0;34m(file, *args, **kwargs)\u001b[0m\n\u001b[1;32m    317\u001b[0m \u001b[38;5;28;01mif\u001b[39;00m file \u001b[38;5;129;01min\u001b[39;00m {\u001b[38;5;241m0\u001b[39m, \u001b[38;5;241m1\u001b[39m, \u001b[38;5;241m2\u001b[39m}:\n\u001b[1;32m    318\u001b[0m     \u001b[38;5;28;01mraise\u001b[39;00m \u001b[38;5;167;01mValueError\u001b[39;00m(\n\u001b[1;32m    319\u001b[0m         \u001b[38;5;124mf\u001b[39m\u001b[38;5;124m\"\u001b[39m\u001b[38;5;124mIPython won\u001b[39m\u001b[38;5;124m'\u001b[39m\u001b[38;5;124mt let you open fd=\u001b[39m\u001b[38;5;132;01m{\u001b[39;00mfile\u001b[38;5;132;01m}\u001b[39;00m\u001b[38;5;124m by default \u001b[39m\u001b[38;5;124m\"\u001b[39m\n\u001b[1;32m    320\u001b[0m         \u001b[38;5;124m\"\u001b[39m\u001b[38;5;124mas it is likely to crash IPython. If you know what you are doing, \u001b[39m\u001b[38;5;124m\"\u001b[39m\n\u001b[1;32m    321\u001b[0m         \u001b[38;5;124m\"\u001b[39m\u001b[38;5;124myou can use builtins\u001b[39m\u001b[38;5;124m'\u001b[39m\u001b[38;5;124m open.\u001b[39m\u001b[38;5;124m\"\u001b[39m\n\u001b[1;32m    322\u001b[0m     )\n\u001b[0;32m--> 324\u001b[0m \u001b[38;5;28;01mreturn\u001b[39;00m \u001b[43mio_open\u001b[49m\u001b[43m(\u001b[49m\u001b[43mfile\u001b[49m\u001b[43m,\u001b[49m\u001b[43m \u001b[49m\u001b[38;5;241;43m*\u001b[39;49m\u001b[43margs\u001b[49m\u001b[43m,\u001b[49m\u001b[43m \u001b[49m\u001b[38;5;241;43m*\u001b[39;49m\u001b[38;5;241;43m*\u001b[39;49m\u001b[43mkwargs\u001b[49m\u001b[43m)\u001b[49m\n",
      "\u001b[0;31mFileNotFoundError\u001b[0m: [Errno 2] No such file or directory: 'cid_to_smiles.pkl'"
     ]
    }
   ],
   "source": [
    "import pickle\n",
    "\n",
    "\n",
    "with open('cid_to_smiles.pkl', 'rb') as f:\n",
    "    cids_to_smiles = pickle.load(f)\n",
    "\n",
    "cids_to_smiles"
   ]
  }
 ],
 "metadata": {
  "kernelspec": {
   "display_name": "MolT5",
   "language": "python",
   "name": "python3"
  },
  "language_info": {
   "codemirror_mode": {
    "name": "ipython",
    "version": 3
   },
   "file_extension": ".py",
   "mimetype": "text/x-python",
   "name": "python",
   "nbconvert_exporter": "python",
   "pygments_lexer": "ipython3",
   "version": "3.12.3"
  }
 },
 "nbformat": 4,
 "nbformat_minor": 2
}
